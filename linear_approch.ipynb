{
 "cells": [
  {
   "cell_type": "code",
   "execution_count": null,
   "id": "713b1df5",
   "metadata": {},
   "outputs": [],
   "source": [
    "import pandas as pd\n",
    "import numpy as np\n",
    "from nltk.stem.porter import *"
   ]
  },
  {
   "cell_type": "code",
   "execution_count": null,
   "id": "c0cdafc7",
   "metadata": {},
   "outputs": [],
   "source": [
    "data = pd.read_csv('data_all.csv')\n",
    "emoji_stats = [\n",
    "    ('👍', 14189),\n",
    "    ('\\U0001fae1', 76),\n",
    "    ('🙏', 157),\n",
    "    ('🔥', 5659),\n",
    "    ('🥰', 1186),\n",
    "    ('👌', 69),\n",
    "    ('🤓', 58),\n",
    "    ('🤝', 3),\n",
    "    ('👎', 2049),\n",
    "    ('🤬', 182),\n",
    "    ('😁', 2405),\n",
    "    ('🤡', 1453),\n",
    "    ('🏆', 290),\n",
    "    ('👏', 320),\n",
    "    ('💯', 160),\n",
    "    ('❤', 4263),\n",
    "    ('🌚', 254),\n",
    "    ('🤨', 293),\n",
    "    ('🥴', 274),\n",
    "    ('🤩', 238),\n",
    "    ('😍', 64),\n",
    "    ('🤣', 348),\n",
    "    ('😢', 2800),\n",
    "    ('💩', 1169),\n",
    "    ('🤯', 598),\n",
    "    ('❤\\u200d🔥', 596),\n",
    "    ('🐳', 457),\n",
    "    ('🤮', 1203),\n",
    "    ('🤗', 2),\n",
    "    ('😇', 20),\n",
    "    ('🤔', 964),\n",
    "    ('🖕', 114),\n",
    "    ('🥱', 93),\n",
    "    ('😈', 213),\n",
    "    ('🕊', 118),\n",
    "    ('🍌', 476),\n",
    "    ('🌭', 234),\n",
    "    ('💋', 219),\n",
    "    ('⚡', 83),\n",
    "    ('🍓', 113),\n",
    "    ('🍾', 287),\n",
    "    ('💔', 38),\n",
    "    ('😱', 442),\n",
    "    ('🎉', 731),\n",
    "    ('😐', 76),\n",
    "    ('✍', 34),\n",
    "    ('😭', 116),\n",
    "    ('🆒', 31),\n",
    "    ('🗿', 7),\n",
    "    ('👀', 48),\n",
    "    ('💅', 6),\n",
    "    ('🎄', 66),\n",
    "    ('☃', 3),\n",
    "    ('👨\\u200d💻', 2),\n",
    "    ('👻', 7),\n",
    "    ('🙊', 1),\n",
    "    ('🤪', 4),\n",
    "    ('😨', 2),\n",
    "    ('💊', 2),\n",
    "    ('😴', 2),\n",
    "]\n",
    "class_weights = {}\n",
    "for emoji_id in range(60):\n",
    "    class_weights[emoji_id] = emoji_stats[emoji_id][1]"
   ]
  },
  {
   "cell_type": "code",
   "execution_count": null,
   "id": "aba6db6c",
   "metadata": {},
   "outputs": [],
   "source": [
    "from sklearn.feature_extraction.text import TfidfVectorizer"
   ]
  },
  {
   "cell_type": "code",
   "execution_count": null,
   "id": "75ca0bc4",
   "metadata": {},
   "outputs": [],
   "source": [
    "vectorizer = TfidfVectorizer()\n",
    "stemmer = PorterStemmer()\n",
    "texts = data['text'].str.replace('[^А-я]', ' ', regex=True).str.lower()\n",
    "texts = [' '.join([stemmer.stem(word) for word in text.split()]) for text in texts]"
   ]
  },
  {
   "cell_type": "code",
   "execution_count": null,
   "id": "1ed677f9",
   "metadata": {},
   "outputs": [],
   "source": [
    "train_vectors = vectorizer.fit_transform(texts)"
   ]
  },
  {
   "cell_type": "code",
   "execution_count": null,
   "id": "8fa9d3cb",
   "metadata": {},
   "outputs": [],
   "source": [
    "import lightgbm\n",
    "import sklearn\n",
    "from sklearn.metrics import accuracy_score\n",
    "from sklearn.metrics import recall_score\n",
    "from sklearn.model_selection import train_test_split"
   ]
  },
  {
   "cell_type": "code",
   "execution_count": null,
   "id": "00fc0f5f",
   "metadata": {},
   "outputs": [],
   "source": [
    "target = data.drop(['text', 'Unnamed: 52', 'total'], axis=1)\n",
    "target_np = np.argmax(np.array(target), axis=1)\n"
   ]
  },
  {
   "cell_type": "code",
   "execution_count": null,
   "id": "13428339",
   "metadata": {},
   "outputs": [],
   "source": [
    "X_train, X_test, y_train, y_test = train_test_split(train_vectors, target_np, test_size=0.2)"
   ]
  },
  {
   "cell_type": "code",
   "execution_count": null,
   "id": "fe2f14c3",
   "metadata": {},
   "outputs": [],
   "source": [
    "bad_ids = []\n",
    "keys = class_weights.keys()\n",
    "for emoji_index in keys:\n",
    "    if sum(y_train == emoji_index) == 0:\n",
    "        bad_ids.append(emoji_index)\n",
    "for emoji_id in bad_ids:\n",
    "    del class_weights[emoji_id]"
   ]
  },
  {
   "cell_type": "code",
   "execution_count": null,
   "id": "59023d7f",
   "metadata": {},
   "outputs": [],
   "source": [
    "n_estimators = 25\n",
    "learning_rate = 0.03\n",
    "model = lightgbm.LGBMClassifier(n_estimators=n_estimators, learning_rate=learning_rate, class_weight=class_weights)\n",
    "model_default = lightgbm.LGBMClassifier(class_weight='balanced')\n",
    "y_train_default = (y_train == 0)\n",
    "model.fit(X_train, y_train)\n",
    "model_default.fit(X_train, y_train_default)\n",
    "preds = model.predict(X_test)\n",
    "preds_default = model_default.predict(X_test)\n",
    "preds_result = preds == 0\n",
    "true_result = y_test == 0\n",
    "print(accuracy_score(preds, y_test), recall_score(preds_result, true_result))"
   ]
  },
  {
   "cell_type": "code",
   "execution_count": null,
   "id": "5537c137",
   "metadata": {},
   "outputs": [],
   "source": [
    "texts_test = pd.Series([\n",
    "    'тестовое сообщение'\n",
    "])\n",
    "texts_test = texts_test.str.replace('[^А-я]', ' ', regex=True).str.lower()\n",
    "texts_test = [' '.join([stemmer.stem(word) for word in text.split()]) for text in texts_test]"
   ]
  },
  {
   "cell_type": "code",
   "execution_count": null,
   "id": "62465bb1",
   "metadata": {},
   "outputs": [],
   "source": [
    "test_vectors = vectorizer.transform(texts_test)\n",
    "predictions_test = model.predict(test_vectors)\n",
    "preds_default = model_default.predict(test_vectors)\n",
    "print(list(map(lambda x:target.columns[x],predictions_test)))\n",
    "print(preds_default)"
   ]
  },
  {
   "cell_type": "code",
   "execution_count": null,
   "id": "da7aa6b6",
   "metadata": {},
   "outputs": [],
   "source": [
    "model_file = open('models/LGBM_model_vectors', 'wb')\n",
    "model_default_file = open('models/LGBM_model_vectors_default', 'wb')\n",
    "vectorizer_file = open('models/vectorizer', 'wb')\n",
    "import pickle\n",
    "pickle.dump(model, model_file)\n",
    "pickle.dump(model_default, model_default_file)\n",
    "pickle.dump(vectorizer, vectorizer_file)\n",
    "model_file.close()\n",
    "model_default_file.close()\n",
    "vectorizer_file.close()"
   ]
  },
  {
   "cell_type": "code",
   "execution_count": null,
   "id": "300e140e",
   "metadata": {},
   "outputs": [],
   "source": []
  }
 ],
 "metadata": {
  "kernelspec": {
   "display_name": "Python 3 (ipykernel)",
   "language": "python",
   "name": "python3"
  },
  "language_info": {
   "codemirror_mode": {
    "name": "ipython",
    "version": 3
   },
   "file_extension": ".py",
   "mimetype": "text/x-python",
   "name": "python",
   "nbconvert_exporter": "python",
   "pygments_lexer": "ipython3",
   "version": "3.10.10"
  }
 },
 "nbformat": 4,
 "nbformat_minor": 5
}
