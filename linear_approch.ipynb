{
 "cells": [
  {
   "cell_type": "code",
   "execution_count": 1,
   "id": "713b1df5",
   "metadata": {},
   "outputs": [],
   "source": [
    "import pandas as pd\n",
    "import numpy as np\n",
    "from nltk.stem.porter import *"
   ]
  },
  {
   "cell_type": "code",
   "execution_count": 2,
   "id": "c0cdafc7",
   "metadata": {},
   "outputs": [],
   "source": [
    "data = pd.read_csv('data_all.csv')"
   ]
  },
  {
   "cell_type": "code",
   "execution_count": 3,
   "id": "aba6db6c",
   "metadata": {},
   "outputs": [],
   "source": [
    "from sklearn.feature_extraction.text import TfidfVectorizer"
   ]
  },
  {
   "cell_type": "code",
   "execution_count": 4,
   "id": "75ca0bc4",
   "metadata": {},
   "outputs": [],
   "source": [
    "vectorizer = TfidfVectorizer()\n",
    "stemmer = PorterStemmer()\n",
    "texts = data['text'].str.replace('[^А-я]', ' ', regex=True).str.lower()\n",
    "texts = [' '.join([stemmer.stem(word) for word in text.split()]) for text in texts]"
   ]
  },
  {
   "cell_type": "code",
   "execution_count": 5,
   "id": "1ed677f9",
   "metadata": {},
   "outputs": [],
   "source": [
    "train_vectors = vectorizer.fit_transform(texts)"
   ]
  },
  {
   "cell_type": "code",
   "execution_count": 6,
   "id": "8fa9d3cb",
   "metadata": {},
   "outputs": [
    {
     "name": "stdout",
     "output_type": "stream",
     "text": [
      "Requirement already satisfied: lightgbm in /backup/asen/vitaly/ml/venv/lib/python3.10/site-packages (3.3.5)\n",
      "Requirement already satisfied: wheel in /backup/asen/vitaly/ml/venv/lib/python3.10/site-packages (from lightgbm) (0.38.4)\n",
      "Requirement already satisfied: scipy in /backup/asen/vitaly/ml/venv/lib/python3.10/site-packages (from lightgbm) (1.10.1)\n",
      "Requirement already satisfied: numpy in /backup/asen/vitaly/ml/venv/lib/python3.10/site-packages (from lightgbm) (1.24.2)\n",
      "Requirement already satisfied: scikit-learn!=0.22.0 in /backup/asen/vitaly/ml/venv/lib/python3.10/site-packages (from lightgbm) (1.2.2)\n",
      "Requirement already satisfied: threadpoolctl>=2.0.0 in /backup/asen/vitaly/ml/venv/lib/python3.10/site-packages (from scikit-learn!=0.22.0->lightgbm) (3.1.0)\n",
      "Requirement already satisfied: joblib>=1.1.1 in /backup/asen/vitaly/ml/venv/lib/python3.10/site-packages (from scikit-learn!=0.22.0->lightgbm) (1.2.0)\n"
     ]
    }
   ],
   "source": [
    "!pip install lightgbm\n",
    "import lightgbm\n",
    "import xgboost\n",
    "import sklearn\n",
    "from sklearn.metrics import accuracy_score\n",
    "from sklearn.metrics import recall_score\n",
    "from sklearn.model_selection import train_test_split"
   ]
  },
  {
   "cell_type": "code",
   "execution_count": 7,
   "id": "00fc0f5f",
   "metadata": {},
   "outputs": [],
   "source": [
    "target = np.array(data.drop(['text', 'Unnamed: 52', 'total'], axis=1))\n",
    "target_np = np.argmax(target, axis=1)\n"
   ]
  },
  {
   "cell_type": "code",
   "execution_count": 13,
   "id": "13428339",
   "metadata": {},
   "outputs": [],
   "source": [
    "X_train, X_test, y_train, y_test = train_test_split(train_vectors, target, test_size=0.2)"
   ]
  },
  {
   "cell_type": "code",
   "execution_count": 31,
   "id": "59023d7f",
   "metadata": {},
   "outputs": [
    {
     "name": "stdout",
     "output_type": "stream",
     "text": [
      "0.4088200238379023 0.5300988319856245\n"
     ]
    }
   ],
   "source": [
    "n_estimators = 300\n",
    "learning_rate = 1\n",
    "model = xgboost.XGBRegressor(n_estimators=n_estimators, learning_rate=learning_rate)\n",
    "model_default = xgboost.XGBClassifier()\n",
    "y_train_default = np.argmax(y_train, axis=1) == 0\n",
    "model.fit(X_train, y_train)\n",
    "model_default.fit(X_train, y_train_default)\n",
    "preds = model.predict(X_test)\n",
    "preds_default = model_default.predict(X_test)\n",
    "preds_result = np.argmax(preds, axis=1) == 0\n",
    "true_result = np.argmax(y_test, axis=1) == 0\n",
    "print(accuracy_score(np.argmax(preds, axis=1), np.argmax(y_test,axis=1)), recall_score(preds_result, true_result))"
   ]
  },
  {
   "cell_type": "code",
   "execution_count": 32,
   "id": "5537c137",
   "metadata": {},
   "outputs": [],
   "source": [
    "texts_test = pd.Series([\n",
    "    'тестовое предложение'\n",
    "])\n",
    "texts_test = texts_test.str.replace('[^А-я]', ' ', regex=True).str.lower()\n",
    "texts_test = [' '.join([stemmer.stem(word) for word in text.split()]) for text in texts_test]"
   ]
  },
  {
   "cell_type": "code",
   "execution_count": 33,
   "id": "62465bb1",
   "metadata": {},
   "outputs": [
    {
     "name": "stdout",
     "output_type": "stream",
     "text": [
      "['👍']\n",
      "[0]\n"
     ]
    }
   ],
   "source": [
    "test_vectors = vectorizer.transform(texts_test)\n",
    "predictions_test = model.predict(test_vectors)\n",
    "preds_test = np.argmax(predictions_test, axis=1)\n",
    "preds_default = model_default.predict(test_vectors)\n",
    "print(list(map(lambda x:data.drop(['text', 'Unnamed: 52', 'total'], axis=1).columns[x],preds_test)))\n",
    "print(preds_default)"
   ]
  },
  {
   "cell_type": "code",
   "execution_count": 35,
   "id": "da7aa6b6",
   "metadata": {},
   "outputs": [],
   "source": [
    "model_file = open('models/XGB_model_vectors', 'wb')\n",
    "model_default_file = open('models/XGB_model_vectors_default', 'wb')\n",
    "vectorizer_file = open('models/vectorizer', 'wb')\n",
    "import pickle\n",
    "pickle.dump(model, model_file)\n",
    "pickle.dump(model_default, model_default_file)\n",
    "pickle.dump(vectorizer, vectorizer_file)\n",
    "model_file.close()\n",
    "model_default_file.close()\n",
    "vectorizer_file.close()"
   ]
  },
  {
   "cell_type": "code",
   "execution_count": 17,
   "id": "300e140e",
   "metadata": {},
   "outputs": [
    {
     "data": {
      "text/plain": [
       "(6711,)"
      ]
     },
     "execution_count": 17,
     "metadata": {},
     "output_type": "execute_result"
    }
   ],
   "source": [
    "np.argmax(y_train, axis=1).shape"
   ]
  },
  {
   "cell_type": "code",
   "execution_count": null,
   "id": "d24a805d",
   "metadata": {},
   "outputs": [],
   "source": []
  }
 ],
 "metadata": {
  "kernelspec": {
   "display_name": "Python 3 (ipykernel)",
   "language": "python",
   "name": "python3"
  },
  "language_info": {
   "codemirror_mode": {
    "name": "ipython",
    "version": 3
   },
   "file_extension": ".py",
   "mimetype": "text/x-python",
   "name": "python",
   "nbconvert_exporter": "python",
   "pygments_lexer": "ipython3",
   "version": "3.10.10"
  }
 },
 "nbformat": 4,
 "nbformat_minor": 5
}
