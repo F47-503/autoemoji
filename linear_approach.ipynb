{
 "cells": [
  {
   "cell_type": "code",
   "execution_count": null,
   "id": "713b1df5",
   "metadata": {},
   "outputs": [],
   "source": [
    "import pandas as pd\n",
    "import numpy as np\n",
    "from nltk.stem.porter import *\n",
    "from sklearn.feature_extraction.text import TfidfVectorizer\n",
    "import lightgbm\n",
    "import pickle\n",
    "from sklearn.metrics import accuracy_score\n",
    "from sklearn.metrics import recall_score\n",
    "from sklearn.model_selection import train_test_split"
   ]
  },
  {
   "cell_type": "code",
   "execution_count": null,
   "id": "94a0e498",
   "metadata": {},
   "outputs": [],
   "source": [
    "data = pd.read_csv(\"data_all.csv\")\n",
    "data[\"label\"] = pd.Series(\n",
    "    map(\n",
    "        lambda x: data.columns[2:][x],\n",
    "        np.argmax(data.loc[:, data.columns[2:]].to_numpy(), axis=1),\n",
    "    )\n",
    ")\n",
    "emoji_counts = data[\"label\"].value_counts().head()\n",
    "poor_presented_emojis = pd.Series(\n",
    "    [emoji for emoji in emoji_counts.index if emoji_counts[emoji] < 200]\n",
    ")\n",
    "data = data[~data[\"label\"].isin(poor_presented_emojis)]\n",
    "data.drop(poor_presented_emojis, axis=1, inplace=True)\n",
    "emoji_counts = emoji_counts[~emoji_counts.index.isin(poor_presented_emojis)]"
   ]
  },
  {
   "cell_type": "code",
   "execution_count": null,
   "id": "75ca0bc4",
   "metadata": {},
   "outputs": [],
   "source": [
    "vectorizer = TfidfVectorizer()\n",
    "stemmer = PorterStemmer()\n",
    "texts = data[\"text\"].str.replace(\"[^А-я]\", \" \", regex=True).str.lower()\n",
    "texts = [\" \".join([stemmer.stem(word) for word in text.split()]) for text in texts]"
   ]
  },
  {
   "cell_type": "code",
   "execution_count": null,
   "id": "1ed677f9",
   "metadata": {},
   "outputs": [],
   "source": [
    "train_vectors = vectorizer.fit_transform(texts)"
   ]
  },
  {
   "cell_type": "code",
   "execution_count": null,
   "id": "13428339",
   "metadata": {},
   "outputs": [],
   "source": [
    "X_train, X_test, y_train, y_test = train_test_split(\n",
    "    train_vectors, data[\"label\"], test_size=0.2\n",
    ")"
   ]
  },
  {
   "cell_type": "code",
   "execution_count": null,
   "id": "62dc9596",
   "metadata": {},
   "outputs": [],
   "source": [
    "default_emoji = emoji_counts.index[0]"
   ]
  },
  {
   "cell_type": "code",
   "execution_count": null,
   "id": "59023d7f",
   "metadata": {},
   "outputs": [],
   "source": [
    "n_estimators = 25\n",
    "learning_rate = 0.03\n",
    "model = lightgbm.LGBMClassifier(n_estimators=n_estimators, learning_rate=learning_rate)\n",
    "model_default = lightgbm.LGBMClassifier(class_weight=\"balanced\")\n",
    "y_train_default = y_train == default_emoji\n",
    "model.fit(X_train, y_train)\n",
    "model_default.fit(X_train, y_train_default)\n",
    "preds = model.predict(X_test)\n",
    "preds_default = model_default.predict(X_test)\n",
    "preds_result = preds == default_emoji\n",
    "true_result = y_test == default_emoji\n",
    "print(accuracy_score(preds, y_test), accuracy_score(preds_result, true_result))"
   ]
  },
  {
   "cell_type": "code",
   "execution_count": null,
   "id": "5537c137",
   "metadata": {},
   "outputs": [],
   "source": [
    "texts_test = pd.Series([\"тестовое сообщение\"])\n",
    "texts_test = texts_test.str.replace(\"[^А-я]\", \" \", regex=True).str.lower()\n",
    "texts_test = [\n",
    "    \" \".join([stemmer.stem(word) for word in text.split()]) for text in texts_test\n",
    "]"
   ]
  },
  {
   "cell_type": "code",
   "execution_count": null,
   "id": "62465bb1",
   "metadata": {},
   "outputs": [],
   "source": [
    "test_vectors = vectorizer.transform(texts_test)\n",
    "predictions_test = model.predict(test_vectors)\n",
    "preds_default = model_default.predict(test_vectors)\n",
    "print(predictions_test)\n",
    "print(preds_default)"
   ]
  },
  {
   "cell_type": "code",
   "execution_count": null,
   "id": "da7aa6b6",
   "metadata": {},
   "outputs": [],
   "source": [
    "with open(\"models/LGBM_model_vectors\", \"wb\") as model_file:\n",
    "    pickle.dump(model, model_file)\n",
    "with open(\"models/LGBM_model_vectors_default\", \"wb\") as model_default_file:\n",
    "    pickle.dump(model_default, model_default_file)\n",
    "with open(\"models/vectorizer\", \"wb\") as vectorizer_file:\n",
    "    pickle.dump(vectorizer, vectorizer_file)"
   ]
  },
  {
   "cell_type": "code",
   "execution_count": null,
   "id": "300e140e",
   "metadata": {},
   "outputs": [],
   "source": []
  }
 ],
 "metadata": {
  "kernelspec": {
   "display_name": "Python 3 (ipykernel)",
   "language": "python",
   "name": "python3"
  },
  "language_info": {
   "codemirror_mode": {
    "name": "ipython",
    "version": 3
   },
   "file_extension": ".py",
   "mimetype": "text/x-python",
   "name": "python",
   "nbconvert_exporter": "python",
   "pygments_lexer": "ipython3",
   "version": "3.8.17"
  }
 },
 "nbformat": 4,
 "nbformat_minor": 5
}
