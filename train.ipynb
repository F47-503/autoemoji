{
 "cells": [
  {
   "cell_type": "code",
   "execution_count": null,
   "id": "d617e555",
   "metadata": {},
   "outputs": [],
   "source": [
    "import pickle\n",
    "import pandas as pd\n",
    "import numpy as np\n",
    "import torch\n",
    "train_data = pickle.load(open('embeddings', 'rb'))"
   ]
  },
  {
   "cell_type": "code",
   "execution_count": null,
   "id": "03fbf26a",
   "metadata": {},
   "outputs": [],
   "source": [
    "import gc\n",
    "gc.collect()"
   ]
  },
  {
   "cell_type": "code",
   "execution_count": null,
   "id": "532c1dd1",
   "metadata": {},
   "outputs": [],
   "source": [
    "#!pip install xgboost\n",
    "import lightgbm\n",
    "import xgboost\n",
    "n_estimators = 300\n",
    "learning_rate = 1\n",
    "model = xgboost.XGBRegressor(n_estimators=n_estimators, learning_rate=learning_rate)"
   ]
  },
  {
   "cell_type": "code",
   "execution_count": null,
   "id": "df395f2d",
   "metadata": {},
   "outputs": [],
   "source": [
    "target_data = pd.read_csv('data_all.csv')"
   ]
  },
  {
   "cell_type": "code",
   "execution_count": null,
   "id": "17d8cf77",
   "metadata": {},
   "outputs": [],
   "source": [
    "target_data = target_data.drop(['text', 'total', 'Unnamed: 52'], axis=1)\n",
    "target_data_np = np.array(target_data)\n",
    "target = np.argmax(target_data_np, axis=1)\n",
    "target_emojis = pd.Series(list(map(lambda x:target_data.columns[x], target)))\n",
    "target_data.head(), train_data.head()"
   ]
  },
  {
   "cell_type": "code",
   "execution_count": null,
   "id": "ca504365",
   "metadata": {},
   "outputs": [],
   "source": [
    "from sklearn.model_selection import train_test_split\n",
    "#train_data.drop(['text'], axis=1, inplace=True)\n",
    "X_train, X_test, y_train, y_test = train_test_split(train_data, target_data_np, test_size=0.05)\n",
    "X_train.reset_index(inplace=True)\n",
    "X_test.reset_index(inplace=True)\n",
    "X_train.drop(['index'], axis=1, inplace=True)\n",
    "X_test.drop(['index'], axis=1, inplace=True)\n",
    "X_train.shape, X_test.shape, len(y_train), len(y_test), target[:5]"
   ]
  },
  {
   "cell_type": "code",
   "execution_count": null,
   "id": "e223e2d0",
   "metadata": {},
   "outputs": [],
   "source": [
    "from sklearn.metrics import accuracy_score"
   ]
  },
  {
   "cell_type": "code",
   "execution_count": null,
   "id": "d319471b",
   "metadata": {},
   "outputs": [],
   "source": [
    "model.fit(X_train, y_train)"
   ]
  },
  {
   "cell_type": "code",
   "execution_count": null,
   "id": "91da9eeb",
   "metadata": {},
   "outputs": [],
   "source": [
    "preds = model.predict(X_test)\n",
    "print(accuracy_score(np.argmax(y_test, axis=1), np.argmax(preds, axis=1)))"
   ]
  },
  {
   "cell_type": "code",
   "execution_count": null,
   "id": "9e8b7062",
   "metadata": {},
   "outputs": [],
   "source": [
    "f_model = open('models/XGB_model', 'wb')\n",
    "pickle.dump(model, f_model)\n",
    "f_model.close()"
   ]
  },
  {
   "cell_type": "code",
   "execution_count": null,
   "id": "de1d34da",
   "metadata": {},
   "outputs": [],
   "source": [
    "from sklearn.metrics import recall_score\n",
    "y_train_default = (np.argmax(y_train, axis=1) == 0)\n",
    "model_default = xgboost.XGBClassifier()\n",
    "model_default.fit(X_train, y_train_default)\n",
    "preds = model.predict(X_test)\n",
    "preds_default = model_default.predict(X_test)\n",
    "preds_result = np.argmax(preds, axis=1) == 0\n",
    "true_result = np.argmax(y_test, axis=1) == 0\n",
    "print(accuracy_score(np.argmax(preds, axis=1), np.argmax(y_test, axis=1)), recall_score(preds_result, true_result))"
   ]
  },
  {
   "cell_type": "code",
   "execution_count": null,
   "id": "057fdfad",
   "metadata": {},
   "outputs": [],
   "source": [
    "f_model_default = open('models/XGB_model_default', 'wb')\n",
    "pickle.dump(model_default, f_model_default)\n",
    "f_model_default.close()"
   ]
  },
  {
   "cell_type": "code",
   "execution_count": null,
   "id": "68402aef",
   "metadata": {},
   "outputs": [],
   "source": [
    "preds = model.predict(X_test)\n",
    "preds_default = model_default.predict(X_test)\n",
    "preds_result = preds == 0\n",
    "true_result = y_test == 0\n",
    "print(accuracy_score(preds, y_test), recall_score(preds_result, true_result))"
   ]
  },
  {
   "cell_type": "code",
   "execution_count": null,
   "id": "8caf6965",
   "metadata": {},
   "outputs": [],
   "source": [
    "print(1)"
   ]
  },
  {
   "cell_type": "code",
   "execution_count": null,
   "id": "c010048f",
   "metadata": {},
   "outputs": [],
   "source": []
  }
 ],
 "metadata": {
  "kernelspec": {
   "display_name": "Python 3 (ipykernel)",
   "language": "python",
   "name": "python3"
  },
  "language_info": {
   "codemirror_mode": {
    "name": "ipython",
    "version": 3
   },
   "file_extension": ".py",
   "mimetype": "text/x-python",
   "name": "python",
   "nbconvert_exporter": "python",
   "pygments_lexer": "ipython3",
   "version": "3.10.10"
  }
 },
 "nbformat": 4,
 "nbformat_minor": 5
}
