{
 "cells": [
  {
   "cell_type": "code",
   "execution_count": 1,
   "id": "d617e555",
   "metadata": {},
   "outputs": [
    {
     "name": "stderr",
     "output_type": "stream",
     "text": [
      "/backup/asen/vitaly/ml/venv/lib/python3.10/site-packages/tqdm/auto.py:21: TqdmWarning: IProgress not found. Please update jupyter and ipywidgets. See https://ipywidgets.readthedocs.io/en/stable/user_install.html\n",
      "  from .autonotebook import tqdm as notebook_tqdm\n"
     ]
    }
   ],
   "source": [
    "import pickle\n",
    "import pandas as pd\n",
    "import numpy as np\n",
    "import torch\n",
    "train_data = pickle.load(open('embeddings', 'rb'))"
   ]
  },
  {
   "cell_type": "code",
   "execution_count": 2,
   "id": "03fbf26a",
   "metadata": {},
   "outputs": [
    {
     "data": {
      "text/plain": [
       "0"
      ]
     },
     "execution_count": 2,
     "metadata": {},
     "output_type": "execute_result"
    }
   ],
   "source": [
    "import gc\n",
    "gc.collect()"
   ]
  },
  {
   "cell_type": "code",
   "execution_count": 27,
   "id": "9a039bb4",
   "metadata": {},
   "outputs": [],
   "source": [
    "emoji_stats = [\n",
    "    ('👍', 14189),\n",
    "    ('\\U0001fae1', 76),\n",
    "    ('🙏', 157),\n",
    "    ('🔥', 5659),\n",
    "    ('🥰', 1186),\n",
    "    ('👌', 69),\n",
    "    ('🤓', 58),\n",
    "    ('🤝', 3),\n",
    "    ('👎', 2049),\n",
    "    ('🤬', 182),\n",
    "    ('😁', 2405),\n",
    "    ('🤡', 1453),\n",
    "    ('🏆', 290),\n",
    "    ('👏', 320),\n",
    "    ('💯', 160),\n",
    "    ('❤', 4263),\n",
    "    ('🌚', 254),\n",
    "    ('🤨', 293),\n",
    "    ('🥴', 274),\n",
    "    ('🤩', 238),\n",
    "    ('😍', 64),\n",
    "    ('🤣', 348),\n",
    "    ('😢', 2800),\n",
    "    ('💩', 1169),\n",
    "    ('🤯', 598),\n",
    "    ('❤\\u200d🔥', 596),\n",
    "    ('🐳', 457),\n",
    "    ('🤮', 1203),\n",
    "    ('🤗', 2),\n",
    "    ('😇', 20),\n",
    "    ('🤔', 964),\n",
    "    ('🖕', 114),\n",
    "    ('🥱', 93),\n",
    "    ('😈', 213),\n",
    "    ('🕊', 118),\n",
    "    ('🍌', 476),\n",
    "    ('🌭', 234),\n",
    "    ('💋', 219),\n",
    "    ('⚡', 83),\n",
    "    ('🍓', 113),\n",
    "    ('🍾', 287),\n",
    "    ('💔', 38),\n",
    "    ('😱', 442),\n",
    "    ('🎉', 731),\n",
    "    ('😐', 76),\n",
    "    ('✍', 34),\n",
    "    ('😭', 116),\n",
    "    ('🆒', 31),\n",
    "    ('🗿', 7),\n",
    "    ('👀', 48),\n",
    "    ('💅', 6),\n",
    "    ('🎄', 66),\n",
    "    ('☃', 3),\n",
    "    ('👨\\u200d💻', 2),\n",
    "    ('👻', 7),\n",
    "    ('🙊', 1),\n",
    "    ('🤪', 4),\n",
    "    ('😨', 2),\n",
    "    ('💊', 2),\n",
    "    ('😴', 2),\n",
    "]\n",
    "class_weights = {}\n",
    "for emoji_id in range(60):\n",
    "    class_weights[emoji_id] = emoji_stats[emoji_id][1]"
   ]
  },
  {
   "cell_type": "code",
   "execution_count": 28,
   "id": "532c1dd1",
   "metadata": {},
   "outputs": [],
   "source": [
    "#!pip install xgboost\n",
    "import lightgbm\n",
    "import xgboost\n",
    "n_estimators = 25\n",
    "learning_rate = 0.03\n",
    "model = lightgbm.LGBMClassifier(n_estimators=n_estimators, learning_rate=learning_rate, class_weight=class_weights)"
   ]
  },
  {
   "cell_type": "code",
   "execution_count": 29,
   "id": "df395f2d",
   "metadata": {},
   "outputs": [],
   "source": [
    "target_data = pd.read_csv('data_all.csv')"
   ]
  },
  {
   "cell_type": "code",
   "execution_count": 30,
   "id": "17d8cf77",
   "metadata": {},
   "outputs": [
    {
     "data": {
      "text/plain": [
       "(     👍    🫡    🙏    🔥    🥰    👌    🤓    🤝    👎    🤬  ...    💅    🎄    ☃  👨‍💻  \\\n",
       " 0  1.0  0.0  0.0  0.0  0.0  0.0  0.0  0.0  0.0  0.0  ...  0.0  0.0  0.0  0.0   \n",
       " 1  0.0  1.0  0.0  0.0  0.0  0.0  0.0  0.0  0.0  0.0  ...  0.0  0.0  0.0  0.0   \n",
       " 2  0.0  0.0  1.0  0.0  0.0  0.0  0.0  0.0  0.0  0.0  ...  0.0  0.0  0.0  0.0   \n",
       " 3  1.0  0.0  0.0  0.0  0.0  0.0  0.0  0.0  0.0  0.0  ...  0.0  0.0  0.0  0.0   \n",
       " 4  1.0  0.0  0.0  0.0  0.0  0.0  0.0  0.0  0.0  0.0  ...  0.0  0.0  0.0  0.0   \n",
       " \n",
       "      👻    🙊    🤪    😨    💊    😴  \n",
       " 0  0.0  0.0  0.0  0.0  0.0  0.0  \n",
       " 1  0.0  0.0  0.0  0.0  0.0  0.0  \n",
       " 2  0.0  0.0  0.0  0.0  0.0  0.0  \n",
       " 3  0.0  0.0  0.0  0.0  0.0  0.0  \n",
       " 4  0.0  0.0  0.0  0.0  0.0  0.0  \n",
       " \n",
       " [5 rows x 60 columns],\n",
       "       0         1         2         3         4         5         6      \\\n",
       " 0  0.108233  0.020312 -0.126104  0.031688  0.194239  0.108156 -0.056828   \n",
       " 1  0.020765 -0.049883 -0.030293  0.036535  0.296358  0.146200  0.008478   \n",
       " 2  0.154851  0.069561  0.103274  0.183172  0.168196  0.071080  0.070896   \n",
       " 3  0.009706  0.019695 -0.471221 -0.041301  0.238738 -0.435756 -0.153828   \n",
       " 4 -0.025559 -0.070789  0.036421  0.048900  0.214987 -0.019549  0.090243   \n",
       " \n",
       "       7         8         9      ...     98294     98295     98296     98297  \\\n",
       " 0  0.031669  0.090705  0.105926  ... -0.198139  0.534803  0.067262 -0.287089   \n",
       " 1 -0.039396  0.178879  0.173431  ...  0.214516  0.378806  0.066609  0.470130   \n",
       " 2 -0.064338  0.084261  0.263445  ... -0.235356  0.540260 -0.626702  0.014262   \n",
       " 3  0.181939 -0.075396 -0.169159  ... -0.065591  0.192658 -0.437429  0.579021   \n",
       " 4  0.018198  0.016540  0.137533  ...  0.020683  0.171786 -0.648986 -0.616909   \n",
       " \n",
       "       98298     98299     98300     98301     98302     98303  \n",
       " 0  0.397964 -0.331668  0.187409 -0.313758 -0.247862 -0.503562  \n",
       " 1 -0.411597  0.114254  0.152823  0.200484 -0.433277 -0.243379  \n",
       " 2  0.310377  0.052966  0.006584 -0.436536  0.115190 -0.302501  \n",
       " 3  0.252620  0.032079 -0.229531 -0.385993  0.060399  0.084549  \n",
       " 4  0.639338  0.214126  0.328169 -0.103753 -0.644895 -0.208440  \n",
       " \n",
       " [5 rows x 98304 columns])"
      ]
     },
     "execution_count": 30,
     "metadata": {},
     "output_type": "execute_result"
    }
   ],
   "source": [
    "target_data = target_data.drop(['text', 'total', 'Unnamed: 52'], axis=1)\n",
    "target_data_np = np.array(target_data)\n",
    "target = np.argmax(target_data_np, axis=1)\n",
    "target_emojis = pd.Series(list(map(lambda x:target_data.columns[x], target)))\n",
    "target_data.head(), train_data.head()"
   ]
  },
  {
   "cell_type": "code",
   "execution_count": 41,
   "id": "ca504365",
   "metadata": {},
   "outputs": [
    {
     "data": {
      "text/plain": [
       "((7969, 98305), (420, 98305), 7969, 420, array([0, 1, 2, 0, 0]))"
      ]
     },
     "execution_count": 41,
     "metadata": {},
     "output_type": "execute_result"
    }
   ],
   "source": [
    "from sklearn.model_selection import train_test_split\n",
    "#train_data.drop(['text'], axis=1, inplace=True)\n",
    "X_train, X_test, y_train, y_test = train_test_split(train_data, target, test_size=0.05)\n",
    "X_train.reset_index(inplace=True)\n",
    "X_test.reset_index(inplace=True)\n",
    "X_train.shape, X_test.shape, len(y_train), len(y_test), target[:5]"
   ]
  },
  {
   "cell_type": "code",
   "execution_count": 49,
   "id": "d5e3c72f",
   "metadata": {},
   "outputs": [],
   "source": [
    "bad_ids = []\n",
    "for emoji_index in keys:\n",
    "    if sum(y_train == emoji_index) == 0:\n",
    "        bad_ids.append(emoji_index)\n",
    "for emoji_id in bad_ids:\n",
    "    del class_weights[emoji_id]"
   ]
  },
  {
   "cell_type": "code",
   "execution_count": 50,
   "id": "e223e2d0",
   "metadata": {},
   "outputs": [],
   "source": [
    "from sklearn.metrics import accuracy_score"
   ]
  },
  {
   "cell_type": "code",
   "execution_count": 51,
   "id": "d319471b",
   "metadata": {},
   "outputs": [
    {
     "data": {
      "text/html": [
       "<style>#sk-container-id-1 {color: black;background-color: white;}#sk-container-id-1 pre{padding: 0;}#sk-container-id-1 div.sk-toggleable {background-color: white;}#sk-container-id-1 label.sk-toggleable__label {cursor: pointer;display: block;width: 100%;margin-bottom: 0;padding: 0.3em;box-sizing: border-box;text-align: center;}#sk-container-id-1 label.sk-toggleable__label-arrow:before {content: \"▸\";float: left;margin-right: 0.25em;color: #696969;}#sk-container-id-1 label.sk-toggleable__label-arrow:hover:before {color: black;}#sk-container-id-1 div.sk-estimator:hover label.sk-toggleable__label-arrow:before {color: black;}#sk-container-id-1 div.sk-toggleable__content {max-height: 0;max-width: 0;overflow: hidden;text-align: left;background-color: #f0f8ff;}#sk-container-id-1 div.sk-toggleable__content pre {margin: 0.2em;color: black;border-radius: 0.25em;background-color: #f0f8ff;}#sk-container-id-1 input.sk-toggleable__control:checked~div.sk-toggleable__content {max-height: 200px;max-width: 100%;overflow: auto;}#sk-container-id-1 input.sk-toggleable__control:checked~label.sk-toggleable__label-arrow:before {content: \"▾\";}#sk-container-id-1 div.sk-estimator input.sk-toggleable__control:checked~label.sk-toggleable__label {background-color: #d4ebff;}#sk-container-id-1 div.sk-label input.sk-toggleable__control:checked~label.sk-toggleable__label {background-color: #d4ebff;}#sk-container-id-1 input.sk-hidden--visually {border: 0;clip: rect(1px 1px 1px 1px);clip: rect(1px, 1px, 1px, 1px);height: 1px;margin: -1px;overflow: hidden;padding: 0;position: absolute;width: 1px;}#sk-container-id-1 div.sk-estimator {font-family: monospace;background-color: #f0f8ff;border: 1px dotted black;border-radius: 0.25em;box-sizing: border-box;margin-bottom: 0.5em;}#sk-container-id-1 div.sk-estimator:hover {background-color: #d4ebff;}#sk-container-id-1 div.sk-parallel-item::after {content: \"\";width: 100%;border-bottom: 1px solid gray;flex-grow: 1;}#sk-container-id-1 div.sk-label:hover label.sk-toggleable__label {background-color: #d4ebff;}#sk-container-id-1 div.sk-serial::before {content: \"\";position: absolute;border-left: 1px solid gray;box-sizing: border-box;top: 0;bottom: 0;left: 50%;z-index: 0;}#sk-container-id-1 div.sk-serial {display: flex;flex-direction: column;align-items: center;background-color: white;padding-right: 0.2em;padding-left: 0.2em;position: relative;}#sk-container-id-1 div.sk-item {position: relative;z-index: 1;}#sk-container-id-1 div.sk-parallel {display: flex;align-items: stretch;justify-content: center;background-color: white;position: relative;}#sk-container-id-1 div.sk-item::before, #sk-container-id-1 div.sk-parallel-item::before {content: \"\";position: absolute;border-left: 1px solid gray;box-sizing: border-box;top: 0;bottom: 0;left: 50%;z-index: -1;}#sk-container-id-1 div.sk-parallel-item {display: flex;flex-direction: column;z-index: 1;position: relative;background-color: white;}#sk-container-id-1 div.sk-parallel-item:first-child::after {align-self: flex-end;width: 50%;}#sk-container-id-1 div.sk-parallel-item:last-child::after {align-self: flex-start;width: 50%;}#sk-container-id-1 div.sk-parallel-item:only-child::after {width: 0;}#sk-container-id-1 div.sk-dashed-wrapped {border: 1px dashed gray;margin: 0 0.4em 0.5em 0.4em;box-sizing: border-box;padding-bottom: 0.4em;background-color: white;}#sk-container-id-1 div.sk-label label {font-family: monospace;font-weight: bold;display: inline-block;line-height: 1.2em;}#sk-container-id-1 div.sk-label-container {text-align: center;}#sk-container-id-1 div.sk-container {/* jupyter's `normalize.less` sets `[hidden] { display: none; }` but bootstrap.min.css set `[hidden] { display: none !important; }` so we also need the `!important` here to be able to override the default hidden behavior on the sphinx rendered scikit-learn.org. See: https://github.com/scikit-learn/scikit-learn/issues/21755 */display: inline-block !important;position: relative;}#sk-container-id-1 div.sk-text-repr-fallback {display: none;}</style><div id=\"sk-container-id-1\" class=\"sk-top-container\"><div class=\"sk-text-repr-fallback\"><pre>LGBMClassifier(class_weight={0: 14189, 1: 76, 2: 157, 3: 5659, 4: 1186, 5: 69,\n",
       "                             6: 58, 7: 3, 8: 2049, 9: 182, 10: 2405, 11: 1453,\n",
       "                             12: 290, 13: 320, 14: 160, 15: 4263, 16: 254,\n",
       "                             17: 293, 18: 274, 19: 238, 20: 64, 21: 348,\n",
       "                             22: 2800, 23: 1169, 24: 598, 25: 596, 26: 457,\n",
       "                             27: 1203, 28: 2, 29: 20, ...},\n",
       "               learning_rate=0.03, n_estimators=25)</pre><b>In a Jupyter environment, please rerun this cell to show the HTML representation or trust the notebook. <br />On GitHub, the HTML representation is unable to render, please try loading this page with nbviewer.org.</b></div><div class=\"sk-container\" hidden><div class=\"sk-item\"><div class=\"sk-estimator sk-toggleable\"><input class=\"sk-toggleable__control sk-hidden--visually\" id=\"sk-estimator-id-1\" type=\"checkbox\" checked><label for=\"sk-estimator-id-1\" class=\"sk-toggleable__label sk-toggleable__label-arrow\">LGBMClassifier</label><div class=\"sk-toggleable__content\"><pre>LGBMClassifier(class_weight={0: 14189, 1: 76, 2: 157, 3: 5659, 4: 1186, 5: 69,\n",
       "                             6: 58, 7: 3, 8: 2049, 9: 182, 10: 2405, 11: 1453,\n",
       "                             12: 290, 13: 320, 14: 160, 15: 4263, 16: 254,\n",
       "                             17: 293, 18: 274, 19: 238, 20: 64, 21: 348,\n",
       "                             22: 2800, 23: 1169, 24: 598, 25: 596, 26: 457,\n",
       "                             27: 1203, 28: 2, 29: 20, ...},\n",
       "               learning_rate=0.03, n_estimators=25)</pre></div></div></div></div></div>"
      ],
      "text/plain": [
       "LGBMClassifier(class_weight={0: 14189, 1: 76, 2: 157, 3: 5659, 4: 1186, 5: 69,\n",
       "                             6: 58, 7: 3, 8: 2049, 9: 182, 10: 2405, 11: 1453,\n",
       "                             12: 290, 13: 320, 14: 160, 15: 4263, 16: 254,\n",
       "                             17: 293, 18: 274, 19: 238, 20: 64, 21: 348,\n",
       "                             22: 2800, 23: 1169, 24: 598, 25: 596, 26: 457,\n",
       "                             27: 1203, 28: 2, 29: 20, ...},\n",
       "               learning_rate=0.03, n_estimators=25)"
      ]
     },
     "execution_count": 51,
     "metadata": {},
     "output_type": "execute_result"
    }
   ],
   "source": [
    "model.fit(X_train, y_train)"
   ]
  },
  {
   "cell_type": "code",
   "execution_count": 52,
   "id": "91da9eeb",
   "metadata": {},
   "outputs": [
    {
     "name": "stdout",
     "output_type": "stream",
     "text": [
      "0.4880952380952381\n"
     ]
    }
   ],
   "source": [
    "preds = model.predict(X_test)\n",
    "print(accuracy_score(y_test, preds))"
   ]
  },
  {
   "cell_type": "code",
   "execution_count": 53,
   "id": "9e8b7062",
   "metadata": {},
   "outputs": [],
   "source": [
    "f_model = open('LGBM_model', 'wb')\n",
    "pickle.dump(model, f_model)\n",
    "f_model.close()"
   ]
  },
  {
   "cell_type": "code",
   "execution_count": 54,
   "id": "471545eb",
   "metadata": {},
   "outputs": [
    {
     "name": "stdout",
     "output_type": "stream",
     "text": [
      "0.4880952380952381 0.5088161209068011\n"
     ]
    }
   ],
   "source": [
    "from sklearn.metrics import recall_score\n",
    "y_train_default = (y_train == 0)\n",
    "model_default = lightgbm.LGBMClassifier(class_weight='balanced')\n",
    "model_default.fit(X_train, y_train_default)\n",
    "preds = model.predict(X_test)\n",
    "preds_default = model_default.predict(X_test)\n",
    "preds_result = preds == 0\n",
    "true_result = y_test == 0\n",
    "print(accuracy_score(preds, y_test), recall_score(preds_result, true_result))"
   ]
  },
  {
   "cell_type": "code",
   "execution_count": 55,
   "id": "2749d1d0",
   "metadata": {},
   "outputs": [],
   "source": [
    "f_model_default = open('LGBM_model_default', 'wb')\n",
    "pickle.dump(model_default, f_model_default)\n",
    "f_model_default.close()"
   ]
  },
  {
   "cell_type": "code",
   "execution_count": null,
   "id": "2c8a715d",
   "metadata": {},
   "outputs": [],
   "source": []
  }
 ],
 "metadata": {
  "kernelspec": {
   "display_name": "Python 3 (ipykernel)",
   "language": "python",
   "name": "python3"
  },
  "language_info": {
   "codemirror_mode": {
    "name": "ipython",
    "version": 3
   },
   "file_extension": ".py",
   "mimetype": "text/x-python",
   "name": "python",
   "nbconvert_exporter": "python",
   "pygments_lexer": "ipython3",
   "version": "3.10.10"
  }
 },
 "nbformat": 4,
 "nbformat_minor": 5
}
