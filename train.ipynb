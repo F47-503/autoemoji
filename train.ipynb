{
 "cells": [
  {
   "cell_type": "code",
   "execution_count": null,
   "id": "d617e555",
   "metadata": {},
   "outputs": [],
   "source": [
    "import pickle\n",
    "import pandas as pd\n",
    "import numpy as np\n",
    "import torch\n",
    "train_data = pickle.load(open('embeddings', 'rb'))"
   ]
  },
  {
   "cell_type": "code",
   "execution_count": null,
   "id": "03fbf26a",
   "metadata": {},
   "outputs": [],
   "source": [
    "import gc\n",
    "gc.collect()"
   ]
  },
  {
   "cell_type": "code",
   "execution_count": null,
   "id": "9a039bb4",
   "metadata": {},
   "outputs": [],
   "source": [
    "emoji_stats = [\n",
    "    ('👍', 14189),\n",
    "    ('\\U0001fae1', 76),\n",
    "    ('🙏', 157),\n",
    "    ('🔥', 5659),\n",
    "    ('🥰', 1186),\n",
    "    ('👌', 69),\n",
    "    ('🤓', 58),\n",
    "    ('🤝', 3),\n",
    "    ('👎', 2049),\n",
    "    ('🤬', 182),\n",
    "    ('😁', 2405),\n",
    "    ('🤡', 1453),\n",
    "    ('🏆', 290),\n",
    "    ('👏', 320),\n",
    "    ('💯', 160),\n",
    "    ('❤', 4263),\n",
    "    ('🌚', 254),\n",
    "    ('🤨', 293),\n",
    "    ('🥴', 274),\n",
    "    ('🤩', 238),\n",
    "    ('😍', 64),\n",
    "    ('🤣', 348),\n",
    "    ('😢', 2800),\n",
    "    ('💩', 1169),\n",
    "    ('🤯', 598),\n",
    "    ('❤\\u200d🔥', 596),\n",
    "    ('🐳', 457),\n",
    "    ('🤮', 1203),\n",
    "    ('🤗', 2),\n",
    "    ('😇', 20),\n",
    "    ('🤔', 964),\n",
    "    ('🖕', 114),\n",
    "    ('🥱', 93),\n",
    "    ('😈', 213),\n",
    "    ('🕊', 118),\n",
    "    ('🍌', 476),\n",
    "    ('🌭', 234),\n",
    "    ('💋', 219),\n",
    "    ('⚡', 83),\n",
    "    ('🍓', 113),\n",
    "    ('🍾', 287),\n",
    "    ('💔', 38),\n",
    "    ('😱', 442),\n",
    "    ('🎉', 731),\n",
    "    ('😐', 76),\n",
    "    ('✍', 34),\n",
    "    ('😭', 116),\n",
    "    ('🆒', 31),\n",
    "    ('🗿', 7),\n",
    "    ('👀', 48),\n",
    "    ('💅', 6),\n",
    "    ('🎄', 66),\n",
    "    ('☃', 3),\n",
    "    ('👨\\u200d💻', 2),\n",
    "    ('👻', 7),\n",
    "    ('🙊', 1),\n",
    "    ('🤪', 4),\n",
    "    ('😨', 2),\n",
    "    ('💊', 2),\n",
    "    ('😴', 2),\n",
    "]\n",
    "class_weights = {}\n",
    "for emoji_id in range(60):\n",
    "    class_weights[emoji_id] = emoji_stats[emoji_id][1]"
   ]
  },
  {
   "cell_type": "code",
   "execution_count": null,
   "id": "532c1dd1",
   "metadata": {},
   "outputs": [],
   "source": [
    "#!pip install xgboost\n",
    "import lightgbm\n",
    "import xgboost\n",
    "n_estimators = 25\n",
    "learning_rate = 0.03\n",
    "model = lightgbm.LGBMClassifier(n_estimators=n_estimators, learning_rate=learning_rate, class_weight=class_weights)"
   ]
  },
  {
   "cell_type": "code",
   "execution_count": null,
   "id": "df395f2d",
   "metadata": {},
   "outputs": [],
   "source": [
    "target_data = pd.read_csv('data_all.csv')"
   ]
  },
  {
   "cell_type": "code",
   "execution_count": null,
   "id": "17d8cf77",
   "metadata": {},
   "outputs": [],
   "source": [
    "target_data = target_data.drop(['text', 'total', 'Unnamed: 52'], axis=1)\n",
    "target_data_np = np.array(target_data)\n",
    "target = np.argmax(target_data_np, axis=1)\n",
    "target_emojis = pd.Series(list(map(lambda x:target_data.columns[x], target)))\n",
    "target_data.head(), train_data.head()"
   ]
  },
  {
   "cell_type": "code",
   "execution_count": null,
   "id": "ca504365",
   "metadata": {},
   "outputs": [],
   "source": [
    "from sklearn.model_selection import train_test_split\n",
    "#train_data.drop(['text'], axis=1, inplace=True)\n",
    "X_train, X_test, y_train, y_test = train_test_split(train_data, target, test_size=0.05)\n",
    "X_train.reset_index(inplace=True)\n",
    "X_test.reset_index(inplace=True)\n",
    "X_train.shape, X_test.shape, len(y_train), len(y_test), target[:5]"
   ]
  },
  {
   "cell_type": "code",
   "execution_count": null,
   "id": "d5e3c72f",
   "metadata": {},
   "outputs": [],
   "source": [
    "bad_ids = []\n",
    "for emoji_index in keys:\n",
    "    if sum(y_train == emoji_index) == 0:\n",
    "        bad_ids.append(emoji_index)\n",
    "for emoji_id in bad_ids:\n",
    "    del class_weights[emoji_id]"
   ]
  },
  {
   "cell_type": "code",
   "execution_count": null,
   "id": "e223e2d0",
   "metadata": {},
   "outputs": [],
   "source": [
    "from sklearn.metrics import accuracy_score"
   ]
  },
  {
   "cell_type": "code",
   "execution_count": null,
   "id": "d319471b",
   "metadata": {},
   "outputs": [],
   "source": [
    "model.fit(X_train, y_train)"
   ]
  },
  {
   "cell_type": "code",
   "execution_count": null,
   "id": "91da9eeb",
   "metadata": {},
   "outputs": [],
   "source": [
    "preds = model.predict(X_test)\n",
    "print(accuracy_score(y_test, preds))"
   ]
  },
  {
   "cell_type": "code",
   "execution_count": null,
   "id": "9e8b7062",
   "metadata": {},
   "outputs": [],
   "source": [
    "f_model = open('LGBM_model', 'wb')\n",
    "pickle.dump(model, f_model)\n",
    "f_model.close()"
   ]
  },
  {
   "cell_type": "code",
   "execution_count": null,
   "id": "471545eb",
   "metadata": {},
   "outputs": [],
   "source": [
    "from sklearn.metrics import recall_score\n",
    "y_train_default = (y_train == 0)\n",
    "model_default = lightgbm.LGBMClassifier(class_weight='balanced')\n",
    "model_default.fit(X_train, y_train_default)\n",
    "preds = model.predict(X_test)\n",
    "preds_default = model_default.predict(X_test)\n",
    "preds_result = preds == 0\n",
    "true_result = y_test == 0\n",
    "print(accuracy_score(preds, y_test), recall_score(preds_result, true_result))"
   ]
  },
  {
   "cell_type": "code",
   "execution_count": null,
   "id": "2749d1d0",
   "metadata": {},
   "outputs": [],
   "source": [
    "f_model_default = open('LGBM_model_default', 'wb')\n",
    "pickle.dump(model_default, f_model_default)\n",
    "f_model_default.close()"
   ]
  },
  {
   "cell_type": "code",
   "execution_count": null,
   "id": "2c8a715d",
   "metadata": {},
   "outputs": [],
   "source": []
  }
 ],
 "metadata": {
  "kernelspec": {
   "display_name": "Python 3 (ipykernel)",
   "language": "python",
   "name": "python3"
  },
  "language_info": {
   "codemirror_mode": {
    "name": "ipython",
    "version": 3
   },
   "file_extension": ".py",
   "mimetype": "text/x-python",
   "name": "python",
   "nbconvert_exporter": "python",
   "pygments_lexer": "ipython3",
   "version": "3.10.6"
  }
 },
 "nbformat": 4,
 "nbformat_minor": 5
}
