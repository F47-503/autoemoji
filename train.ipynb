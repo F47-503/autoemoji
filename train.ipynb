{
 "cells": [
  {
   "cell_type": "code",
   "execution_count": 2,
   "id": "d617e555",
   "metadata": {},
   "outputs": [],
   "source": [
    "import pickle\n",
    "import pandas as pd\n",
    "import numpy as np\n",
    "import torch\n",
    "train_data = pickle.load(open('embeddings', 'rb'))"
   ]
  },
  {
   "cell_type": "code",
   "execution_count": 3,
   "id": "03fbf26a",
   "metadata": {},
   "outputs": [
    {
     "data": {
      "text/plain": [
       "0"
      ]
     },
     "execution_count": 3,
     "metadata": {},
     "output_type": "execute_result"
    }
   ],
   "source": [
    "import gc\n",
    "gc.collect()"
   ]
  },
  {
   "cell_type": "code",
   "execution_count": 4,
   "id": "35354d73",
   "metadata": {},
   "outputs": [],
   "source": [
    "emoji_stats = [\n",
    "    ('👍', 14189),\n",
    "    ('\\U0001fae1', 76),\n",
    "    ('🙏', 157),\n",
    "    ('🔥', 5659),\n",
    "    ('🥰', 1186),\n",
    "    ('👌', 69),\n",
    "    ('🤓', 58),\n",
    "    ('🤝', 3),\n",
    "    ('👎', 2049),\n",
    "    ('🤬', 182),\n",
    "    ('😁', 2405),\n",
    "    ('🤡', 1453),\n",
    "    ('🏆', 290),\n",
    "    ('👏', 320),\n",
    "    ('💯', 160),\n",
    "    ('❤', 4263),\n",
    "    ('🌚', 254),\n",
    "    ('🤨', 293),\n",
    "    ('🥴', 274),\n",
    "    ('🤩', 238),\n",
    "    ('😍', 64),\n",
    "    ('🤣', 348),\n",
    "    ('😢', 2800),\n",
    "    ('💩', 1169),\n",
    "    ('🤯', 598),\n",
    "    ('❤\\u200d🔥', 596),\n",
    "    ('🐳', 457),\n",
    "    ('🤮', 1203),\n",
    "    ('🤗', 2),\n",
    "    ('😇', 20),\n",
    "    ('🤔', 964),\n",
    "    ('🖕', 114),\n",
    "    ('🥱', 93),\n",
    "    ('😈', 213),\n",
    "    ('🕊', 118),\n",
    "    ('🍌', 476),\n",
    "    ('🌭', 234),\n",
    "    ('💋', 219),\n",
    "    ('⚡', 83),\n",
    "    ('🍓', 113),\n",
    "    ('🍾', 287),\n",
    "    ('💔', 38),\n",
    "    ('😱', 442),\n",
    "    ('🎉', 731),\n",
    "    ('😐', 76),\n",
    "    ('✍', 34),\n",
    "    ('😭', 116),\n",
    "    ('🆒', 31),\n",
    "    ('🗿', 7),\n",
    "    ('👀', 48),\n",
    "    ('💅', 6),\n",
    "    ('🎄', 66),\n",
    "    ('☃', 3),\n",
    "    ('👨\\u200d💻', 2),\n",
    "    ('👻', 7),\n",
    "    ('🙊', 1),\n",
    "    ('🤪', 4),\n",
    "    ('😨', 2),\n",
    "    ('💊', 2),\n",
    "    ('😴', 2),\n",
    "]\n",
    "total = sum([x[1] for x in emoji_stats])\n",
    "class_weights = {}\n",
    "for emoji_id in range(60):\n",
    "    class_weights[emoji_id] = emoji_stats[emoji_id][1] / total"
   ]
  },
  {
   "cell_type": "code",
   "execution_count": 5,
   "id": "532c1dd1",
   "metadata": {},
   "outputs": [],
   "source": [
    "#!pip install xgboost\n",
    "import lightgbm\n",
    "import xgboost\n",
    "n_estimators = 25\n",
    "learning_rate = 0.03\n",
    "model = lightgbm.LGBMClassifier(n_estimators=n_estimators, learning_rate=learning_rate, class_weight=class_weights)"
   ]
  },
  {
   "cell_type": "code",
   "execution_count": 6,
   "id": "df395f2d",
   "metadata": {},
   "outputs": [],
   "source": [
    "target_data = pd.read_csv('data_all.csv')"
   ]
  },
  {
   "cell_type": "code",
   "execution_count": 7,
   "id": "17d8cf77",
   "metadata": {},
   "outputs": [
    {
     "data": {
      "text/plain": [
       "(     👍    🫡    🙏    🔥    🥰    👌    🤓    🤝    👎    🤬  ...    💅    🎄    ☃  👨‍💻  \\\n",
       " 0  1.0  0.0  0.0  0.0  0.0  0.0  0.0  0.0  0.0  0.0  ...  0.0  0.0  0.0  0.0   \n",
       " 1  0.0  1.0  0.0  0.0  0.0  0.0  0.0  0.0  0.0  0.0  ...  0.0  0.0  0.0  0.0   \n",
       " 2  0.0  0.0  1.0  0.0  0.0  0.0  0.0  0.0  0.0  0.0  ...  0.0  0.0  0.0  0.0   \n",
       " 3  1.0  0.0  0.0  0.0  0.0  0.0  0.0  0.0  0.0  0.0  ...  0.0  0.0  0.0  0.0   \n",
       " 4  1.0  0.0  0.0  0.0  0.0  0.0  0.0  0.0  0.0  0.0  ...  0.0  0.0  0.0  0.0   \n",
       " \n",
       "      👻    🙊    🤪    😨    💊    😴  \n",
       " 0  0.0  0.0  0.0  0.0  0.0  0.0  \n",
       " 1  0.0  0.0  0.0  0.0  0.0  0.0  \n",
       " 2  0.0  0.0  0.0  0.0  0.0  0.0  \n",
       " 3  0.0  0.0  0.0  0.0  0.0  0.0  \n",
       " 4  0.0  0.0  0.0  0.0  0.0  0.0  \n",
       " \n",
       " [5 rows x 60 columns],\n",
       "       0         1         2         3         4         5         6      \\\n",
       " 0  0.108233  0.020312 -0.126104  0.031688  0.194239  0.108156 -0.056828   \n",
       " 1  0.020765 -0.049883 -0.030293  0.036535  0.296358  0.146200  0.008478   \n",
       " 2  0.154851  0.069561  0.103274  0.183172  0.168196  0.071080  0.070896   \n",
       " 3  0.009706  0.019695 -0.471221 -0.041301  0.238738 -0.435756 -0.153828   \n",
       " 4 -0.025559 -0.070789  0.036421  0.048900  0.214987 -0.019549  0.090243   \n",
       " \n",
       "       7         8         9      ...     98294     98295     98296     98297  \\\n",
       " 0  0.031669  0.090705  0.105926  ... -0.198139  0.534803  0.067262 -0.287089   \n",
       " 1 -0.039396  0.178879  0.173431  ...  0.214516  0.378806  0.066609  0.470130   \n",
       " 2 -0.064338  0.084261  0.263445  ... -0.235356  0.540260 -0.626702  0.014262   \n",
       " 3  0.181939 -0.075396 -0.169159  ... -0.065591  0.192658 -0.437429  0.579021   \n",
       " 4  0.018198  0.016540  0.137533  ...  0.020683  0.171786 -0.648986 -0.616909   \n",
       " \n",
       "       98298     98299     98300     98301     98302     98303  \n",
       " 0  0.397964 -0.331668  0.187409 -0.313758 -0.247862 -0.503562  \n",
       " 1 -0.411597  0.114254  0.152823  0.200484 -0.433277 -0.243379  \n",
       " 2  0.310377  0.052966  0.006584 -0.436536  0.115190 -0.302501  \n",
       " 3  0.252620  0.032079 -0.229531 -0.385993  0.060399  0.084549  \n",
       " 4  0.639338  0.214126  0.328169 -0.103753 -0.644895 -0.208440  \n",
       " \n",
       " [5 rows x 98304 columns])"
      ]
     },
     "execution_count": 7,
     "metadata": {},
     "output_type": "execute_result"
    }
   ],
   "source": [
    "target_data = target_data.drop(['text', 'total', 'Unnamed: 52'], axis=1)\n",
    "target_data_np = np.array(target_data)\n",
    "target = np.argmax(target_data_np, axis=1)\n",
    "target_emojis = pd.Series(list(map(lambda x:target_data.columns[x], target)))\n",
    "target_data.head(), train_data.head()"
   ]
  },
  {
   "cell_type": "code",
   "execution_count": 8,
   "id": "ca504365",
   "metadata": {},
   "outputs": [
    {
     "data": {
      "text/plain": [
       "((7969, 98304), (420, 98304), 7969, 420, array([0, 1, 2, 0, 0]))"
      ]
     },
     "execution_count": 8,
     "metadata": {},
     "output_type": "execute_result"
    }
   ],
   "source": [
    "from sklearn.model_selection import train_test_split\n",
    "#train_data.drop(['text'], axis=1, inplace=True)\n",
    "X_train, X_test, y_train, y_test = train_test_split(train_data, target, test_size=0.05)\n",
    "X_train.reset_index(inplace=True)\n",
    "X_test.reset_index(inplace=True)\n",
    "X_train.drop(['index'], axis=1, inplace=True)\n",
    "X_test.drop(['index'], axis=1, inplace=True)\n",
    "X_train.shape, X_test.shape, len(y_train), len(y_test), target[:5]"
   ]
  },
  {
   "cell_type": "code",
   "execution_count": 9,
   "id": "5d60a5a9",
   "metadata": {},
   "outputs": [],
   "source": [
    "bad_ids = []\n",
    "keys = class_weights.keys()\n",
    "for emoji_index in keys:\n",
    "    if sum(y_train == emoji_index) == 0:\n",
    "        bad_ids.append(emoji_index)\n",
    "for emoji_id in bad_ids:\n",
    "    del class_weights[emoji_id]"
   ]
  },
  {
   "cell_type": "code",
   "execution_count": 10,
   "id": "e223e2d0",
   "metadata": {},
   "outputs": [],
   "source": [
    "from sklearn.metrics import accuracy_score"
   ]
  },
  {
   "cell_type": "code",
   "execution_count": null,
   "id": "d319471b",
   "metadata": {},
   "outputs": [],
   "source": [
    "model.fit(X_train, y_train)"
   ]
  },
  {
   "cell_type": "code",
   "execution_count": 18,
   "id": "91da9eeb",
   "metadata": {},
   "outputs": [
    {
     "name": "stdout",
     "output_type": "stream",
     "text": [
      "0.5261904761904762\n"
     ]
    }
   ],
   "source": [
    "preds = model.predict(X_test)\n",
    "print(accuracy_score(y_test, preds))"
   ]
  },
  {
   "cell_type": "code",
   "execution_count": 19,
   "id": "9e8b7062",
   "metadata": {},
   "outputs": [],
   "source": [
    "f_model = open('models/LGBM_model', 'wb')\n",
    "pickle.dump(model, f_model)\n",
    "f_model.close()"
   ]
  },
  {
   "cell_type": "code",
   "execution_count": null,
   "id": "de1d34da",
   "metadata": {},
   "outputs": [],
   "source": [
    "from sklearn.metrics import recall_score\n",
    "y_train_default = (y_train == 0)\n",
    "model_default = lightgbm.LGBMClassifier()\n",
    "model_default.fit(X_train, y_train_default)\n",
    "preds = model.predict(X_test)\n",
    "preds_default = model_default.predict(X_test)\n",
    "preds_result = preds == 0\n",
    "true_result = y_test == 0\n",
    "print(accuracy_score(preds, y_test), recall_score(preds_result, true_result))"
   ]
  },
  {
   "cell_type": "code",
   "execution_count": null,
   "id": "057fdfad",
   "metadata": {},
   "outputs": [],
   "source": [
    "f_model_default = open('models/LGBM_model_default', 'wb')\n",
    "pickle.dump(model_default, f_model_default)\n",
    "f_model_default.close()"
   ]
  },
  {
   "cell_type": "code",
   "execution_count": null,
   "id": "68402aef",
   "metadata": {},
   "outputs": [],
   "source": [
    "preds = model.predict(X_test)\n",
    "preds_default = model_default.predict(X_test)\n",
    "preds_result = preds == 0\n",
    "true_result = y_test == 0\n",
    "print(accuracy_score(preds, y_test), recall_score(preds_result, true_result))"
   ]
  },
  {
   "cell_type": "code",
   "execution_count": null,
   "id": "8caf6965",
   "metadata": {},
   "outputs": [],
   "source": []
  }
 ],
 "metadata": {
  "kernelspec": {
   "display_name": "Python 3 (ipykernel)",
   "language": "python",
   "name": "python3"
  },
  "language_info": {
   "codemirror_mode": {
    "name": "ipython",
    "version": 3
   },
   "file_extension": ".py",
   "mimetype": "text/x-python",
   "name": "python",
   "nbconvert_exporter": "python",
   "pygments_lexer": "ipython3",
   "version": "3.10.6"
  }
 },
 "nbformat": 4,
 "nbformat_minor": 5
}
