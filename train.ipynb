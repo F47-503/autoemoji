{
 "cells": [
  {
   "cell_type": "code",
   "execution_count": null,
   "id": "d617e555",
   "metadata": {},
   "outputs": [],
   "source": [
    "import pickle\n",
    "import pandas as pd\n",
    "import numpy as np\n",
    "import lightgbm\n",
    "from sklearn.model_selection import train_test_split\n",
    "from sklearn.metrics import accuracy_score, recall_score\n",
    "\n",
    "\n",
    "train_data = pickle.load(open(\"embeddings\", \"rb\"))"
   ]
  },
  {
   "cell_type": "code",
   "execution_count": null,
   "id": "03fbf26a",
   "metadata": {},
   "outputs": [],
   "source": [
    "import gc\n",
    "\n",
    "gc.collect()"
   ]
  },
  {
   "cell_type": "code",
   "execution_count": null,
   "id": "35354d73",
   "metadata": {},
   "outputs": [],
   "source": [
    "data = pd.read_csv(\"data_all.csv\")\n",
    "emoji_counts = data[\"label\"].value_counts().head()"
   ]
  },
  {
   "cell_type": "code",
   "execution_count": null,
   "id": "532c1dd1",
   "metadata": {},
   "outputs": [],
   "source": [
    "n_estimators = 25\n",
    "learning_rate = 0.03\n",
    "model = lightgbm.LGBMClassifier(\n",
    "    n_estimators=n_estimators, learning_rate=learning_rate\n",
    ")"
   ]
  },
  {
   "cell_type": "code",
   "execution_count": null,
   "id": "ca504365",
   "metadata": {},
   "outputs": [],
   "source": [
    "X_train, X_test, y_train, y_test = train_test_split(train_data, data['label'], test_size=0.05)\n",
    "X_train.reset_index(inplace=True)\n",
    "X_test.reset_index(inplace=True)\n",
    "X_train.drop([\"index\"], axis=1, inplace=True)\n",
    "X_test.drop([\"index\"], axis=1, inplace=True)\n",
    "X_train.shape, X_test.shape, len(y_train), len(y_test), data['label'][:5]"
   ]
  },
  {
   "cell_type": "code",
   "execution_count": null,
   "id": "d319471b",
   "metadata": {},
   "outputs": [],
   "source": [
    "model.fit(X_train, y_train)"
   ]
  },
  {
   "cell_type": "code",
   "execution_count": null,
   "id": "91da9eeb",
   "metadata": {},
   "outputs": [],
   "source": [
    "preds = model.predict(X_test)\n",
    "print(accuracy_score(y_test, preds))"
   ]
  },
  {
   "cell_type": "code",
   "execution_count": null,
   "id": "9e8b7062",
   "metadata": {},
   "outputs": [],
   "source": [
    "with open(\"models/LGBM_model\", \"wb\") as f_model:\n",
    "    pickle.dump(model, f_model)"
   ]
  },
  {
   "cell_type": "code",
   "execution_count": null,
   "id": "d75b2b1e",
   "metadata": {},
   "outputs": [],
   "source": [
    "default_emoji = emoji_counts.index[0]"
   ]
  },
  {
   "cell_type": "code",
   "execution_count": null,
   "id": "de1d34da",
   "metadata": {},
   "outputs": [],
   "source": [
    "y_train_default = y_train == default_emoji\n",
    "model_default = lightgbm.LGBMClassifier()\n",
    "model_default.fit(X_train, y_train_default)\n",
    "preds = model.predict(X_test)\n",
    "preds_default = model_default.predict(X_test)\n",
    "preds_result = preds == default_emoji\n",
    "true_result = y_test == default_emoji\n",
    "print(accuracy_score(preds, y_test), recall_score(preds_result, true_result))"
   ]
  },
  {
   "cell_type": "code",
   "execution_count": null,
   "id": "057fdfad",
   "metadata": {},
   "outputs": [],
   "source": [
    "with open(\"models/LGBM_model_default\", \"wb\") as f_model_default:\n",
    "    pickle.dump(model_default, f_model_default)"
   ]
  },
  {
   "cell_type": "code",
   "execution_count": null,
   "id": "68402aef",
   "metadata": {},
   "outputs": [],
   "source": [
    "preds = model.predict(X_test)\n",
    "preds_default = model_default.predict(X_test)\n",
    "preds_result = preds == default_emoji\n",
    "true_result = y_test == default_emoji\n",
    "print(accuracy_score(preds, y_test), recall_score(preds_result, true_result))"
   ]
  },
  {
   "cell_type": "code",
   "execution_count": null,
   "id": "8caf6965",
   "metadata": {},
   "outputs": [],
   "source": []
  }
 ],
 "metadata": {
  "kernelspec": {
   "display_name": "Python 3 (ipykernel)",
   "language": "python",
   "name": "python3"
  },
  "language_info": {
   "codemirror_mode": {
    "name": "ipython",
    "version": 3
   },
   "file_extension": ".py",
   "mimetype": "text/x-python",
   "name": "python",
   "nbconvert_exporter": "python",
   "pygments_lexer": "ipython3",
   "version": "3.8.17"
  }
 },
 "nbformat": 4,
 "nbformat_minor": 5
}
