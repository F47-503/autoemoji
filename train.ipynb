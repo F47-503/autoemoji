{
 "cells": [
  {
   "cell_type": "code",
   "execution_count": null,
   "id": "d617e555",
   "metadata": {},
   "outputs": [],
   "source": [
    "import pickle\n",
    "import pandas as pd\n",
    "import numpy as np\n",
    "import torch\n",
    "train_data = pickle.load(open('embeddings', 'rb'))"
   ]
  },
  {
   "cell_type": "code",
   "execution_count": null,
   "id": "03fbf26a",
   "metadata": {},
   "outputs": [],
   "source": [
    "import gc\n",
    "gc.collect()"
   ]
  },
  {
   "cell_type": "code",
   "execution_count": null,
   "id": "532c1dd1",
   "metadata": {},
   "outputs": [],
   "source": [
    "#!pip install xgboost\n",
    "import lightgbm\n",
    "import xgboost\n",
    "n_estimators = 100\n",
    "learning_rate = 0.1\n",
    "model = xgboost.XGBRegressor(n_estimators=n_estimators, learning_rate=learning_rate)"
   ]
  },
  {
   "cell_type": "code",
   "execution_count": null,
   "id": "df395f2d",
   "metadata": {},
   "outputs": [],
   "source": [
    "target_data = pd.read_csv('data_all.csv')"
   ]
  },
  {
   "cell_type": "code",
   "execution_count": null,
   "id": "17d8cf77",
   "metadata": {},
   "outputs": [],
   "source": [
    "target_data = target_data.drop(['text', 'total', 'Unnamed: 52'], axis=1)\n",
    "target_data_np = np.array(target_data)\n",
    "target = np.argmax(target_data_np, axis=1)\n",
    "target = list(map(lambda x:target_data.columns[x], target))\n",
    "target_data.head(), train_data.head()"
   ]
  },
  {
   "cell_type": "code",
   "execution_count": null,
   "id": "ca504365",
   "metadata": {},
   "outputs": [],
   "source": [
    "from sklearn.model_selection import train_test_split\n",
    "#train_data.drop(['text'], axis=1, inplace=True)\n",
    "X_train, X_test, y_train, y_test = train_test_split(train_data, target_data, test_size=0.05)\n",
    "X_train.shape, X_test.shape, y_train.shape, y_test.shape"
   ]
  },
  {
   "cell_type": "code",
   "execution_count": null,
   "id": "e223e2d0",
   "metadata": {},
   "outputs": [],
   "source": [
    "from sklearn.metrics import accuracy_score"
   ]
  },
  {
   "cell_type": "code",
   "execution_count": null,
   "id": "d319471b",
   "metadata": {},
   "outputs": [],
   "source": [
    "model.fit(X_train, y_train)"
   ]
  },
  {
   "cell_type": "code",
   "execution_count": null,
   "id": "91da9eeb",
   "metadata": {},
   "outputs": [],
   "source": [
    "preds = model.predict(X_test)\n",
    "#print(accuracy_score(y_test, preds))"
   ]
  },
  {
   "cell_type": "code",
   "execution_count": null,
   "id": "9e8b7062",
   "metadata": {},
   "outputs": [],
   "source": []
  }
 ],
 "metadata": {
  "kernelspec": {
   "display_name": "Python 3 (ipykernel)",
   "language": "python",
   "name": "python3"
  },
  "language_info": {
   "codemirror_mode": {
    "name": "ipython",
    "version": 3
   },
   "file_extension": ".py",
   "mimetype": "text/x-python",
   "name": "python",
   "nbconvert_exporter": "python",
   "pygments_lexer": "ipython3",
   "version": "3.10.10"
  }
 },
 "nbformat": 4,
 "nbformat_minor": 5
}
