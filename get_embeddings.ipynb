{
 "cells": [
  {
   "cell_type": "code",
   "execution_count": null,
   "id": "d32ac2a4",
   "metadata": {},
   "outputs": [],
   "source": [
    "import torch\n",
    "import transformers\n",
    "import pandas as pd\n",
    "import numpy as np\n",
    "import re\n",
    "import gc\n",
    "import pickle\n",
    "\n",
    "data = pd.read_csv(\"data_all.csv\")"
   ]
  },
  {
   "cell_type": "code",
   "execution_count": null,
   "id": "643fe91a",
   "metadata": {},
   "outputs": [],
   "source": [
    "texts = data[\"text\"].str.replace(\"[^А-я]\", \" \", regex=True).str.lower()"
   ]
  },
  {
   "cell_type": "code",
   "execution_count": null,
   "id": "281412b1",
   "metadata": {},
   "outputs": [],
   "source": [
    "seq = None\n",
    "inputs = None\n",
    "model = None\n",
    "tokenizer = None\n",
    "out = None\n",
    "gc.collect()\n",
    "torch.cuda.empty_cache()\n",
    "torch.cuda.memory_reserved()"
   ]
  },
  {
   "cell_type": "code",
   "execution_count": null,
   "id": "949098ea",
   "metadata": {},
   "outputs": [],
   "source": [
    "list_of_arrays = []"
   ]
  },
  {
   "cell_type": "code",
   "execution_count": null,
   "id": "c2f677cb",
   "metadata": {},
   "outputs": [],
   "source": [
    "model_name = \"DeepPavlov/rubert-base-cased\"\n",
    "model = transformers.AutoModel.from_pretrained(model_name)\n",
    "tokenizer = transformers.AutoTokenizer.from_pretrained(model_name)\n",
    "device = torch.device(\"cuda:0\") if torch.cuda.is_available() else torch.device(\"cpu\")\n",
    "model.to(device)\n",
    "for i in range(data.shape[0] // 100 + 1):\n",
    "    with torch.no_grad():\n",
    "        seq = list(texts.values[i * 100 : (i + 1) * 100])\n",
    "        inputs = tokenizer(\n",
    "            seq,\n",
    "            return_tensors=\"pt\",\n",
    "            pad_to_max_length=True,\n",
    "            max_length=128,\n",
    "            truncation=True,\n",
    "        ).to(device)\n",
    "        out = model(**inputs)[0]\n",
    "        out_np = out.detach().cpu().numpy()\n",
    "        for arr in out_np:\n",
    "            list_of_arrays.append(arr)\n",
    "        gc.collect()\n",
    "        torch.cuda.empty_cache()"
   ]
  },
  {
   "cell_type": "code",
   "execution_count": null,
   "id": "85c55dd1",
   "metadata": {},
   "outputs": [],
   "source": [
    "arr = np.array([x.reshape((-1)) for x in list_of_arrays])"
   ]
  },
  {
   "cell_type": "code",
   "execution_count": null,
   "id": "4e533f4f",
   "metadata": {},
   "outputs": [],
   "source": [
    "data_encoded = pd.DataFrame(arr, columns=list(range(arr.shape[1])))"
   ]
  },
  {
   "cell_type": "code",
   "execution_count": null,
   "id": "3a92cca6",
   "metadata": {},
   "outputs": [],
   "source": [
    "with open(\"embeddings\", \"wb\") as encodings:\n",
    "    pickle.dump(data_encoded, encodings)"
   ]
  },
  {
   "cell_type": "code",
   "execution_count": null,
   "id": "a960cbee",
   "metadata": {},
   "outputs": [],
   "source": []
  }
 ],
 "metadata": {
  "kernelspec": {
   "display_name": "Python 3 (ipykernel)",
   "language": "python",
   "name": "python3"
  },
  "language_info": {
   "codemirror_mode": {
    "name": "ipython",
    "version": 3
   },
   "file_extension": ".py",
   "mimetype": "text/x-python",
   "name": "python",
   "nbconvert_exporter": "python",
   "pygments_lexer": "ipython3",
   "version": "3.8.17"
  }
 },
 "nbformat": 4,
 "nbformat_minor": 5
}
