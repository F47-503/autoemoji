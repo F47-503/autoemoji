{
 "cells": [
  {
   "cell_type": "code",
   "execution_count": 3,
   "id": "d32ac2a4",
   "metadata": {},
   "outputs": [],
   "source": [
    "import torch\n",
    "import transformers\n",
    "import pandas as pd\n",
    "import numpy as np\n",
    "import re\n",
    "import gc\n",
    "data = pd.read_csv('data_all.csv')"
   ]
  },
  {
   "cell_type": "code",
   "execution_count": 4,
   "id": "643fe91a",
   "metadata": {},
   "outputs": [],
   "source": [
    "texts = data['text'].str.replace('[^А-я]', ' ', regex=True).str.lower()"
   ]
  },
  {
   "cell_type": "code",
   "execution_count": 5,
   "id": "281412b1",
   "metadata": {},
   "outputs": [
    {
     "data": {
      "text/plain": [
       "0"
      ]
     },
     "execution_count": 5,
     "metadata": {},
     "output_type": "execute_result"
    }
   ],
   "source": [
    "seq = None\n",
    "inputs = None\n",
    "model = None\n",
    "tokenizer = None\n",
    "out = None\n",
    "gc.collect()\n",
    "torch.cuda.empty_cache()\n",
    "torch.cuda.memory_reserved()"
   ]
  },
  {
   "cell_type": "code",
   "execution_count": 6,
   "id": "949098ea",
   "metadata": {},
   "outputs": [],
   "source": [
    "list_of_arrays = []"
   ]
  },
  {
   "cell_type": "code",
   "execution_count": 7,
   "id": "c2f677cb",
   "metadata": {},
   "outputs": [
    {
     "name": "stderr",
     "output_type": "stream",
     "text": [
      "Some weights of the model checkpoint at DeepPavlov/rubert-base-cased were not used when initializing BertModel: ['cls.seq_relationship.bias', 'cls.predictions.transform.dense.bias', 'cls.predictions.transform.dense.weight', 'cls.predictions.transform.LayerNorm.weight', 'cls.predictions.bias', 'cls.seq_relationship.weight', 'cls.predictions.decoder.weight', 'cls.predictions.transform.LayerNorm.bias', 'cls.predictions.decoder.bias']\n",
      "- This IS expected if you are initializing BertModel from the checkpoint of a model trained on another task or with another architecture (e.g. initializing a BertForSequenceClassification model from a BertForPreTraining model).\n",
      "- This IS NOT expected if you are initializing BertModel from the checkpoint of a model that you expect to be exactly identical (initializing a BertForSequenceClassification model from a BertForSequenceClassification model).\n",
      "/backup/asen/vitaly/ml/venv/lib/python3.10/site-packages/transformers/tokenization_utils_base.py:2346: FutureWarning: The `pad_to_max_length` argument is deprecated and will be removed in a future version, use `padding=True` or `padding='longest'` to pad to the longest sequence in the batch, or use `padding='max_length'` to pad to a max length. In this case, you can give a specific length with `max_length` (e.g. `max_length=45`) or leave max_length to None to pad to the maximal input size of the model (e.g. 512 for Bert).\n",
      "  warnings.warn(\n"
     ]
    },
    {
     "name": "stdout",
     "output_type": "stream",
     "text": [
      "0\n",
      "1\n",
      "2\n",
      "3\n",
      "4\n",
      "5\n",
      "6\n",
      "7\n",
      "8\n",
      "9\n",
      "10\n",
      "11\n",
      "12\n",
      "13\n",
      "14\n",
      "15\n",
      "16\n",
      "17\n",
      "18\n",
      "19\n",
      "20\n",
      "21\n",
      "22\n",
      "23\n",
      "24\n",
      "25\n",
      "26\n",
      "27\n",
      "28\n",
      "29\n",
      "30\n",
      "31\n",
      "32\n",
      "33\n",
      "34\n",
      "35\n",
      "36\n",
      "37\n",
      "38\n",
      "39\n",
      "40\n",
      "41\n",
      "42\n",
      "43\n",
      "44\n",
      "45\n",
      "46\n",
      "47\n",
      "48\n",
      "49\n",
      "50\n",
      "51\n",
      "52\n",
      "53\n",
      "54\n",
      "55\n",
      "56\n",
      "57\n",
      "58\n",
      "59\n",
      "60\n",
      "61\n",
      "62\n",
      "63\n",
      "64\n",
      "65\n",
      "66\n",
      "67\n",
      "68\n",
      "69\n",
      "70\n",
      "71\n",
      "72\n",
      "73\n",
      "74\n",
      "75\n",
      "76\n",
      "77\n",
      "78\n",
      "79\n",
      "80\n",
      "81\n",
      "82\n",
      "83\n"
     ]
    }
   ],
   "source": [
    "model = transformers.AutoModel.from_pretrained('DeepPavlov/rubert-base-cased')\n",
    "tokenizer = transformers.AutoTokenizer.from_pretrained('DeepPavlov/rubert-base-cased')\n",
    "device=torch.device(\"cuda:0\")\n",
    "model.to(device)\n",
    "for i in range(data.shape[0]//100+1):\n",
    "    with torch.no_grad():\n",
    "        seq = list(texts.values[i*100:(i+1)*100])\n",
    "        inputs = tokenizer(seq, return_tensors=\"pt\", pad_to_max_length=True, max_length=128, truncation=True).to(device)\n",
    "        out = model(**inputs)[0]\n",
    "        out_np = out.detach().cpu().numpy()\n",
    "        for arr in out_np:\n",
    "            list_of_arrays.append(arr)\n",
    "        gc.collect()\n",
    "        torch.cuda.empty_cache()\n",
    "        print(i)"
   ]
  },
  {
   "cell_type": "code",
   "execution_count": 8,
   "id": "85c55dd1",
   "metadata": {},
   "outputs": [],
   "source": [
    "arr = np.array([x.reshape((-1)) for x in list_of_arrays])"
   ]
  },
  {
   "cell_type": "code",
   "execution_count": 9,
   "id": "4e533f4f",
   "metadata": {},
   "outputs": [],
   "source": [
    "data_encoded = pd.DataFrame(arr, columns = list(range(arr.shape[1])))"
   ]
  },
  {
   "cell_type": "code",
   "execution_count": 10,
   "id": "3a92cca6",
   "metadata": {},
   "outputs": [],
   "source": [
    "import pickle\n",
    "encodings = open('embeddings', 'wb')\n",
    "pickle.dump(data_encoded, encodings)\n",
    "encodings.close()"
   ]
  },
  {
   "cell_type": "code",
   "execution_count": null,
   "id": "6007b682",
   "metadata": {},
   "outputs": [],
   "source": []
  },
  {
   "cell_type": "code",
   "execution_count": null,
   "id": "a960cbee",
   "metadata": {},
   "outputs": [],
   "source": []
  }
 ],
 "metadata": {
  "kernelspec": {
   "display_name": "Python 3 (ipykernel)",
   "language": "python",
   "name": "python3"
  },
  "language_info": {
   "codemirror_mode": {
    "name": "ipython",
    "version": 3
   },
   "file_extension": ".py",
   "mimetype": "text/x-python",
   "name": "python",
   "nbconvert_exporter": "python",
   "pygments_lexer": "ipython3",
   "version": "3.10.10"
  }
 },
 "nbformat": 4,
 "nbformat_minor": 5
}
